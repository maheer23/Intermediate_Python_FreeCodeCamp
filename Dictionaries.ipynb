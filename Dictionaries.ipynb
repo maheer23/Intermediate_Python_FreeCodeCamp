{
  "nbformat": 4,
  "nbformat_minor": 0,
  "metadata": {
    "colab": {
      "name": "Dictionaries.ipynb",
      "provenance": [],
      "authorship_tag": "ABX9TyOm2c5CJg6cqFdyWUrNB5e8",
      "include_colab_link": true
    },
    "kernelspec": {
      "name": "python3",
      "display_name": "Python 3"
    },
    "language_info": {
      "name": "python"
    }
  },
  "cells": [
    {
      "cell_type": "markdown",
      "metadata": {
        "id": "view-in-github",
        "colab_type": "text"
      },
      "source": [
        "<a href=\"https://colab.research.google.com/github/maheer23/Intermediate_Python_FreeCodeCamp/blob/main/Dictionaries.ipynb\" target=\"_parent\"><img src=\"https://colab.research.google.com/assets/colab-badge.svg\" alt=\"Open In Colab\"/></a>"
      ]
    },
    {
      "cell_type": "markdown",
      "metadata": {
        "id": "mMYxgwSIBL29"
      },
      "source": [
        "## Create a dictionary:\n",
        "\n",
        "* Two ways to create a dictionary"
      ]
    },
    {
      "cell_type": "code",
      "metadata": {
        "colab": {
          "base_uri": "https://localhost:8080/"
        },
        "id": "yZz-gKKhB50k",
        "outputId": "c7c553df-5592-4230-d746-3edaf5a8726b"
      },
      "source": [
        "mydict1 = {\n",
        "    'name': \"max\",\n",
        "    'age': 28,\n",
        "    \"city\": \"New York\"\n",
        "}\n",
        "print(mydict1)\n",
        "\n",
        "mydict2 = dict(\n",
        "     name= \"max\",\n",
        "     age= 28,\n",
        "     city= \"New York\"\n",
        ")\n",
        "print(mydict2)\n"
      ],
      "execution_count": 4,
      "outputs": [
        {
          "output_type": "stream",
          "text": [
            "{'name': 'max', 'age': 28, 'city': 'New York'}\n",
            "{'name': 'max', 'age': 28, 'city': 'New York'}\n"
          ],
          "name": "stdout"
        }
      ]
    },
    {
      "cell_type": "markdown",
      "metadata": {
        "id": "0uKO8V-WBSe4"
      },
      "source": [
        "## Access items:"
      ]
    },
    {
      "cell_type": "code",
      "metadata": {
        "colab": {
          "base_uri": "https://localhost:8080/"
        },
        "id": "B3D7gCL-CXuY",
        "outputId": "ac98ad0e-4c10-4ddf-a0e2-e18a30cc1e30"
      },
      "source": [
        "name_in_dict = mydict1[\"name\"]\n",
        "print(name_in_dict)"
      ],
      "execution_count": 5,
      "outputs": [
        {
          "output_type": "stream",
          "text": [
            "max\n"
          ],
          "name": "stdout"
        }
      ]
    },
    {
      "cell_type": "markdown",
      "metadata": {
        "id": "sRDhyemfBS17"
      },
      "source": [
        "## Add and Change items\n",
        "\n",
        "* Simply add or access a key and assign the a value"
      ]
    },
    {
      "cell_type": "code",
      "metadata": {
        "colab": {
          "base_uri": "https://localhost:8080/"
        },
        "id": "3uoD58SaCykK",
        "outputId": "f5e6fde6-2a41-48d3-c9d6-3eb4f556a41c"
      },
      "source": [
        "mydict1[\"email\"] = 'max@xyz.com'\n",
        "print(mydict1)\n",
        "\n",
        "# Or we can overwrite the existing key\n",
        "mydict1['name'] = 'Maheer'\n",
        "print(mydict1)"
      ],
      "execution_count": 6,
      "outputs": [
        {
          "output_type": "stream",
          "text": [
            "{'name': 'max', 'age': 28, 'city': 'New York', 'email': 'max@xyz.com'}\n",
            "{'name': 'Maheer', 'age': 28, 'city': 'New York', 'email': 'max@xyz.com'}\n"
          ],
          "name": "stdout"
        }
      ]
    },
    {
      "cell_type": "markdown",
      "metadata": {
        "id": "Go-gFVU1BTXJ"
      },
      "source": [
        "## Delete items"
      ]
    },
    {
      "cell_type": "code",
      "metadata": {
        "id": "1Auw2Jb6DCtu"
      },
      "source": [
        "# Delete a key-value pair\n",
        "del mydict1['email']"
      ],
      "execution_count": 7,
      "outputs": []
    },
    {
      "cell_type": "code",
      "metadata": {
        "colab": {
          "base_uri": "https://localhost:8080/"
        },
        "id": "whlJAZN-DLc5",
        "outputId": "0011a9cd-2734-42c7-ff70-7d7e63f781f3"
      },
      "source": [
        "# This returns the value and removes the key-value pair\n",
        "print(\"popped value: \",mydict1.pop('age'))"
      ],
      "execution_count": 8,
      "outputs": [
        {
          "output_type": "stream",
          "text": [
            "popped:  28\n"
          ],
          "name": "stdout"
        }
      ]
    },
    {
      "cell_type": "code",
      "metadata": {
        "colab": {
          "base_uri": "https://localhost:8080/"
        },
        "id": "YBec2K4CDXgF",
        "outputId": "2e7d2e45-488a-48b9-896a-03d70dbf836d"
      },
      "source": [
        "print(mydict1)\n",
        "\n",
        "# Returns and removes the last inserted keyvalue pair\n",
        "print(\"Popped item:\", mydict1.popitem())\n",
        "\n",
        "print(mydict1)"
      ],
      "execution_count": 10,
      "outputs": [
        {
          "output_type": "stream",
          "text": [
            "{'name': 'Maheer', 'city': 'New York'}\n",
            "Popped item: ('city', 'New York')\n",
            "{'name': 'Maheer'}\n"
          ],
          "name": "stdout"
        }
      ]
    },
    {
      "cell_type": "markdown",
      "metadata": {
        "id": "49w9OBNZBT4p"
      },
      "source": [
        "## Check for Keys"
      ]
    },
    {
      "cell_type": "code",
      "metadata": {
        "colab": {
          "base_uri": "https://localhost:8080/"
        },
        "id": "I1ztff6AD6vz",
        "outputId": "b7834dea-64c7-4f39-be9e-aa4b2c8356ea"
      },
      "source": [
        "mydict1 = {\n",
        "    'name': \"max\",\n",
        "    'age': 28,\n",
        "    \"city\": \"New York\"\n",
        "}\n",
        "\n",
        "# Using if.. in\n",
        "if \"name\" in mydict1:\n",
        "  print(mydict1['name'])\n",
        "\n",
        "# Use Try..Except\n",
        "try:\n",
        "  print(mydict1['firstname'])\n",
        "except:\n",
        "  print(\"No Key Found\")"
      ],
      "execution_count": 11,
      "outputs": [
        {
          "output_type": "stream",
          "text": [
            "max\n",
            "No Key Found\n"
          ],
          "name": "stdout"
        }
      ]
    },
    {
      "cell_type": "markdown",
      "metadata": {
        "id": "9BatGFSRBhak"
      },
      "source": [
        "## Lopping through Dictionary"
      ]
    },
    {
      "cell_type": "code",
      "metadata": {
        "colab": {
          "base_uri": "https://localhost:8080/"
        },
        "id": "rPSlE5jYEatr",
        "outputId": "0e57692c-1054-45f4-f9a6-7fd342e343ef"
      },
      "source": [
        "# Loop over keys\n",
        "for key in mydict1:\n",
        "  print(key,mydict1[key])"
      ],
      "execution_count": 13,
      "outputs": [
        {
          "output_type": "stream",
          "text": [
            "name max\n",
            "age 28\n",
            "city New York\n"
          ],
          "name": "stdout"
        }
      ]
    },
    {
      "cell_type": "code",
      "metadata": {
        "colab": {
          "base_uri": "https://localhost:8080/"
        },
        "id": "eszn5CMrEll9",
        "outputId": "aa46b13e-3b29-47b3-fbe0-5656db02aee7"
      },
      "source": [
        "# Loop over keys\n",
        "for key in mydict1.keys():\n",
        "  print(key)"
      ],
      "execution_count": 14,
      "outputs": [
        {
          "output_type": "stream",
          "text": [
            "name\n",
            "age\n",
            "city\n"
          ],
          "name": "stdout"
        }
      ]
    },
    {
      "cell_type": "code",
      "metadata": {
        "colab": {
          "base_uri": "https://localhost:8080/"
        },
        "id": "Gx-K5g_XElic",
        "outputId": "9ed06347-033a-48f2-8ce7-59b58511fbe6"
      },
      "source": [
        "# loop over values\n",
        "for value in mydict1.values():\n",
        "  print(value)"
      ],
      "execution_count": 15,
      "outputs": [
        {
          "output_type": "stream",
          "text": [
            "max\n",
            "28\n",
            "New York\n"
          ],
          "name": "stdout"
        }
      ]
    },
    {
      "cell_type": "code",
      "metadata": {
        "colab": {
          "base_uri": "https://localhost:8080/"
        },
        "id": "63qgxGtaElf7",
        "outputId": "f3b7f99d-5d97-4d1c-ad8e-5f0ba80c5088"
      },
      "source": [
        "# Loop over Keys and values\n",
        "for key, value in mydict1.items():\n",
        "  print(key,value)"
      ],
      "execution_count": 16,
      "outputs": [
        {
          "output_type": "stream",
          "text": [
            "name max\n",
            "age 28\n",
            "city New York\n"
          ],
          "name": "stdout"
        }
      ]
    },
    {
      "cell_type": "markdown",
      "metadata": {
        "id": "21IFtlExBiM9"
      },
      "source": [
        "## Copy a Dictionary\n",
        "\n",
        "* Be careful when copying References"
      ]
    },
    {
      "cell_type": "code",
      "metadata": {
        "colab": {
          "base_uri": "https://localhost:8080/"
        },
        "id": "OAVie5C4E-q3",
        "outputId": "682defb8-bbaa-4858-b092-3beff8af3912"
      },
      "source": [
        "dict_org = {\n",
        "    'name': \"max\",\n",
        "    'age': 28,\n",
        "    \"city\": \"New York\"\n",
        "}\n",
        "print(dict_org)\n",
        "\n",
        "# This just copies the reference to the dict, \n",
        "dict_cpy = dict_org\n",
        "\n",
        "# Now modifying the copy also affects the original\n",
        "dict_cpy['name'] = 'lisa'\n",
        "print(dict_cpy)\n",
        "print(dict_org)"
      ],
      "execution_count": 17,
      "outputs": [
        {
          "output_type": "stream",
          "text": [
            "{'name': 'max', 'age': 28, 'city': 'New York'}\n",
            "{'name': 'lisa', 'age': 28, 'city': 'New York'}\n",
            "{'name': 'lisa', 'age': 28, 'city': 'New York'}\n"
          ],
          "name": "stdout"
        }
      ]
    },
    {
      "cell_type": "markdown",
      "metadata": {
        "id": "-sXy5JgqFXH_"
      },
      "source": [
        "* Use copy(), or dict(x) to avoid this"
      ]
    },
    {
      "cell_type": "code",
      "metadata": {
        "colab": {
          "base_uri": "https://localhost:8080/"
        },
        "id": "DJF3zx4VE-oO",
        "outputId": "3665b09e-8431-464f-a899-e52eab1a7722"
      },
      "source": [
        "dict_org = {\n",
        "    'name': \"max\",\n",
        "    'age': 28,\n",
        "    \"city\": \"New York\"\n",
        "}\n",
        "\n",
        "dict_cpy1 = dict_org.copy()\n",
        "dict_cpy2 = dict(dict_org)\n",
        "\n",
        "# Now modifying the copy does not affect the original\n",
        "dict_cpy1['name'] = 'lisa'\n",
        "print(dict_cpy1)\n",
        "print(dict_org)"
      ],
      "execution_count": 19,
      "outputs": [
        {
          "output_type": "stream",
          "text": [
            "{'name': 'lisa', 'age': 28, 'city': 'New York'}\n",
            "{'name': 'max', 'age': 28, 'city': 'New York'}\n"
          ],
          "name": "stdout"
        }
      ]
    },
    {
      "cell_type": "markdown",
      "metadata": {
        "id": "J-lOwkjwBiJR"
      },
      "source": [
        "## Merge Two Dictionaries\n",
        "\n",
        "* use the update(), method to merge two dictionaries. \n",
        "* Existing keys are overwritten, new keys are added"
      ]
    },
    {
      "cell_type": "code",
      "metadata": {
        "colab": {
          "base_uri": "https://localhost:8080/"
        },
        "id": "4t6o14dRF331",
        "outputId": "aa4e0de9-2625-4054-d36a-305d6d486325"
      },
      "source": [
        "mydict1 = {\n",
        "    'name': \"max\",\n",
        "    'age': 28,\n",
        "    \"city\": \"New York\"\n",
        "}\n",
        "print(mydict1)\n",
        "\n",
        "mydict2 = dict(\n",
        "     name= \"Alice\",\n",
        "     age= 28,\n",
        "     email= \"alice@xyz.com\"\n",
        ")\n",
        "\n",
        "mydict1.update(mydict2)\n",
        "print(mydict1)"
      ],
      "execution_count": 22,
      "outputs": [
        {
          "output_type": "stream",
          "text": [
            "{'name': 'max', 'age': 28, 'city': 'New York'}\n",
            "{'name': 'Alice', 'age': 28, 'city': 'New York', 'email': 'alice@xyz.com'}\n"
          ],
          "name": "stdout"
        }
      ]
    },
    {
      "cell_type": "markdown",
      "metadata": {
        "id": "jBRpHHP5BiG8"
      },
      "source": [
        "## Possible Key Types\n",
        "\n",
        "* Any immutable type, like strings or numbers can be used as a key. Also a tuple can be used if contains onlu immutable elements\n",
        "\n",
        "* A list is not possible because it is not immutable"
      ]
    },
    {
      "cell_type": "code",
      "metadata": {
        "colab": {
          "base_uri": "https://localhost:8080/"
        },
        "id": "jQ-rgiXTGpU-",
        "outputId": "97dca615-97cc-474f-9ea9-589f7c8777f8"
      },
      "source": [
        "mydict = {3:9, 6:36, 9:81}\n",
        "print(mydict[3],mydict[6],mydict[9])"
      ],
      "execution_count": 23,
      "outputs": [
        {
          "output_type": "stream",
          "text": [
            "9 36 81\n"
          ],
          "name": "stdout"
        }
      ]
    },
    {
      "cell_type": "code",
      "metadata": {
        "colab": {
          "base_uri": "https://localhost:8080/"
        },
        "id": "THO8aMerG7lw",
        "outputId": "c9738aab-1f46-4cf5-ce2a-f369612d802a"
      },
      "source": [
        "# Use a tuple with immutable elements \n",
        "mytuple = (8,7)\n",
        "my_dict = {mytuple:15}\n",
        "\n",
        "print(my_dict[mytuple])"
      ],
      "execution_count": 25,
      "outputs": [
        {
          "output_type": "stream",
          "text": [
            "15\n"
          ],
          "name": "stdout"
        }
      ]
    },
    {
      "cell_type": "markdown",
      "metadata": {
        "id": "hj1yOVIEB0A-"
      },
      "source": [
        "## Nested Dictionaries\n",
        "\n",
        "* The values can also be container types (eg., lists, tuples, dictionaries)"
      ]
    },
    {
      "cell_type": "code",
      "metadata": {
        "colab": {
          "base_uri": "https://localhost:8080/"
        },
        "id": "wQIKkGmDA1Yj",
        "outputId": "cb08fa5c-7c66-470a-8b81-913c37b4cb17"
      },
      "source": [
        "mydict1 = {\n",
        "    'name': \"max\",\n",
        "    'age': 28,\n",
        "    \"city\": \"New York\"\n",
        "}\n",
        "\n",
        "mydict2 = dict(\n",
        "     name= \"Alice\",\n",
        "     age= 28,\n",
        "     email= \"alice@xyz.com\"\n",
        ")\n",
        "\n",
        "nested_dict = {\n",
        "    'dictA': mydict1,\n",
        "    'dictB': mydict2\n",
        "}\n",
        "\n",
        "\n",
        "print(nested_dict)\n"
      ],
      "execution_count": 26,
      "outputs": [
        {
          "output_type": "stream",
          "text": [
            "{'dictA': {'name': 'max', 'age': 28, 'city': 'New York'}, 'dictB': {'name': 'Alice', 'age': 28, 'email': 'alice@xyz.com'}}\n"
          ],
          "name": "stdout"
        }
      ]
    }
  ]
}