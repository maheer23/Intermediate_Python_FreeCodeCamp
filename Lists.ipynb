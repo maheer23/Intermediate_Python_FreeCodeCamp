{
  "nbformat": 4,
  "nbformat_minor": 0,
  "metadata": {
    "colab": {
      "name": "Lists.ipynb",
      "provenance": [],
      "collapsed_sections": [],
      "authorship_tag": "ABX9TyO7TnvrP4ha7EYvmmz9paiB",
      "include_colab_link": true
    },
    "kernelspec": {
      "name": "python3",
      "display_name": "Python 3"
    },
    "language_info": {
      "name": "python"
    }
  },
  "cells": [
    {
      "cell_type": "markdown",
      "metadata": {
        "id": "view-in-github",
        "colab_type": "text"
      },
      "source": [
        "<a href=\"https://colab.research.google.com/github/maheer23/Intermediate_Python_FreeCodeCamp/blob/main/Lists.ipynb\" target=\"_parent\"><img src=\"https://colab.research.google.com/assets/colab-badge.svg\" alt=\"Open In Colab\"/></a>"
      ]
    },
    {
      "cell_type": "markdown",
      "metadata": {
        "id": "z3AGAoeL3l_w"
      },
      "source": [
        "**Lists:** Ordered, Mutable, Allows Duplicate elements"
      ]
    },
    {
      "cell_type": "code",
      "metadata": {
        "colab": {
          "base_uri": "https://localhost:8080/"
        },
        "id": "L_-5r0683Q5e",
        "outputId": "d502a13a-cb47-4653-ca53-ab7a4076cf19"
      },
      "source": [
        "mylist = ['banana','cherry','apple']\n",
        "print(mylist)"
      ],
      "execution_count": 37,
      "outputs": [
        {
          "output_type": "stream",
          "text": [
            "['banana', 'cherry', 'apple']\n"
          ],
          "name": "stdout"
        }
      ]
    },
    {
      "cell_type": "code",
      "metadata": {
        "colab": {
          "base_uri": "https://localhost:8080/"
        },
        "id": "RiZpLd8830eU",
        "outputId": "a283cf95-c59d-4287-a122-426eeea41c69"
      },
      "source": [
        "# Empty List\n",
        "mylist2 = list()\n",
        "print(mylist2)"
      ],
      "execution_count": 38,
      "outputs": [
        {
          "output_type": "stream",
          "text": [
            "[]\n"
          ],
          "name": "stdout"
        }
      ]
    },
    {
      "cell_type": "markdown",
      "metadata": {
        "id": "O5vfYVcG39He"
      },
      "source": [
        "* to access an element refer to the index"
      ]
    },
    {
      "cell_type": "code",
      "metadata": {
        "colab": {
          "base_uri": "https://localhost:8080/"
        },
        "id": "A-QD0J5p35Tq",
        "outputId": "9d025a53-138d-4f56-abb2-b36e814e0041"
      },
      "source": [
        "item = mylist[0]\n",
        "print(item)"
      ],
      "execution_count": 39,
      "outputs": [
        {
          "output_type": "stream",
          "text": [
            "banana\n"
          ],
          "name": "stdout"
        }
      ]
    },
    {
      "cell_type": "markdown",
      "metadata": {
        "id": "lWQYodRD4F-d"
      },
      "source": [
        "**Note:**\n",
        "If index is too large it shows and error"
      ]
    },
    {
      "cell_type": "code",
      "metadata": {
        "colab": {
          "base_uri": "https://localhost:8080/",
          "height": 35
        },
        "id": "TN9Zkwf44Cu-",
        "outputId": "139fd84d-2dd8-42dd-90ba-8690079ded0c"
      },
      "source": [
        "# TO print last item\n",
        "last = mylist[-1]\n",
        "last"
      ],
      "execution_count": 40,
      "outputs": [
        {
          "output_type": "execute_result",
          "data": {
            "application/vnd.google.colaboratory.intrinsic+json": {
              "type": "string"
            },
            "text/plain": [
              "'apple'"
            ]
          },
          "metadata": {
            "tags": []
          },
          "execution_count": 40
        }
      ]
    },
    {
      "cell_type": "markdown",
      "metadata": {
        "id": "C5BXxzw84T_7"
      },
      "source": [
        "**TO Iterate over your list**"
      ]
    },
    {
      "cell_type": "code",
      "metadata": {
        "colab": {
          "base_uri": "https://localhost:8080/"
        },
        "id": "88oJEG0Z4RBB",
        "outputId": "bdcce12b-628b-4a10-9441-fa25af46ef6b"
      },
      "source": [
        "for i in mylist:\n",
        "  print(i)"
      ],
      "execution_count": 41,
      "outputs": [
        {
          "output_type": "stream",
          "text": [
            "banana\n",
            "cherry\n",
            "apple\n"
          ],
          "name": "stdout"
        }
      ]
    },
    {
      "cell_type": "markdown",
      "metadata": {
        "id": "F2mS-HNN4eZW"
      },
      "source": [
        "**TO check if an item is in list**"
      ]
    },
    {
      "cell_type": "code",
      "metadata": {
        "colab": {
          "base_uri": "https://localhost:8080/"
        },
        "id": "0RTZzc9b4YSB",
        "outputId": "b3c51c71-23b3-46af-cc3e-5df32438939a"
      },
      "source": [
        "if 'banana' in mylist:\n",
        "  print(\"YES\")\n",
        "else:\n",
        "  print(\"NO\")"
      ],
      "execution_count": 42,
      "outputs": [
        {
          "output_type": "stream",
          "text": [
            "YES\n"
          ],
          "name": "stdout"
        }
      ]
    },
    {
      "cell_type": "markdown",
      "metadata": {
        "id": "7JBO2fr84q5m"
      },
      "source": [
        "**Methods**\n",
        "\n",
        "* len()\n",
        "* append()\n",
        "* insert(index,item)\n",
        "* pop() --> removes the last item and returns it\n",
        "* remove(item)\n",
        "* clear()\n",
        "* reverse()\n",
        "* sort() --> performs inplace sorting\n",
        "* sorted()"
      ]
    },
    {
      "cell_type": "code",
      "metadata": {
        "colab": {
          "base_uri": "https://localhost:8080/"
        },
        "id": "HR4UlDLp4mWK",
        "outputId": "06a0aadb-8556-46ff-baa8-366c35743ac5"
      },
      "source": [
        "len(mylist)"
      ],
      "execution_count": 43,
      "outputs": [
        {
          "output_type": "execute_result",
          "data": {
            "text/plain": [
              "3"
            ]
          },
          "metadata": {
            "tags": []
          },
          "execution_count": 43
        }
      ]
    },
    {
      "cell_type": "code",
      "metadata": {
        "colab": {
          "base_uri": "https://localhost:8080/"
        },
        "id": "VGJ8kn8O4u8v",
        "outputId": "c8811c48-ad25-42cc-efa3-38deab791f89"
      },
      "source": [
        "mylist.append(\"Lemon\")\n",
        "print(mylist)"
      ],
      "execution_count": 44,
      "outputs": [
        {
          "output_type": "stream",
          "text": [
            "['banana', 'cherry', 'apple', 'Lemon']\n"
          ],
          "name": "stdout"
        }
      ]
    },
    {
      "cell_type": "code",
      "metadata": {
        "colab": {
          "base_uri": "https://localhost:8080/"
        },
        "id": "zt7OVBgY406q",
        "outputId": "d4e99642-d2ad-4995-c5f7-2adc0f1cec32"
      },
      "source": [
        "mylist.insert(1,'blueberry')\n",
        "mylist"
      ],
      "execution_count": 45,
      "outputs": [
        {
          "output_type": "execute_result",
          "data": {
            "text/plain": [
              "['banana', 'blueberry', 'cherry', 'apple', 'Lemon']"
            ]
          },
          "metadata": {
            "tags": []
          },
          "execution_count": 45
        }
      ]
    },
    {
      "cell_type": "code",
      "metadata": {
        "colab": {
          "base_uri": "https://localhost:8080/",
          "height": 35
        },
        "id": "-kmAKIDB48D-",
        "outputId": "5737e971-9fe2-47ae-9834-90a405e11a04"
      },
      "source": [
        "mylist.pop()"
      ],
      "execution_count": 46,
      "outputs": [
        {
          "output_type": "execute_result",
          "data": {
            "application/vnd.google.colaboratory.intrinsic+json": {
              "type": "string"
            },
            "text/plain": [
              "'Lemon'"
            ]
          },
          "metadata": {
            "tags": []
          },
          "execution_count": 46
        }
      ]
    },
    {
      "cell_type": "code",
      "metadata": {
        "colab": {
          "base_uri": "https://localhost:8080/"
        },
        "id": "LnNZ75Je5J2u",
        "outputId": "49fc6798-0c8b-48e6-b8ff-0fcfd5f37959"
      },
      "source": [
        "mylist.remove(\"cherry\")\n",
        "mylist"
      ],
      "execution_count": 47,
      "outputs": [
        {
          "output_type": "execute_result",
          "data": {
            "text/plain": [
              "['banana', 'blueberry', 'apple']"
            ]
          },
          "metadata": {
            "tags": []
          },
          "execution_count": 47
        }
      ]
    },
    {
      "cell_type": "code",
      "metadata": {
        "colab": {
          "base_uri": "https://localhost:8080/"
        },
        "id": "hBfMdnA_5Uf9",
        "outputId": "f77a21ae-5fed-4400-9a92-8461c718daa2"
      },
      "source": [
        "mylist.clear()\n",
        "# Empties the list\n",
        "mylist"
      ],
      "execution_count": 48,
      "outputs": [
        {
          "output_type": "execute_result",
          "data": {
            "text/plain": [
              "[]"
            ]
          },
          "metadata": {
            "tags": []
          },
          "execution_count": 48
        }
      ]
    },
    {
      "cell_type": "code",
      "metadata": {
        "colab": {
          "base_uri": "https://localhost:8080/"
        },
        "id": "wUxfSghg5t4H",
        "outputId": "b65c87b4-44c6-4dc2-93a4-eae3848f7e71"
      },
      "source": [
        "mylist = ['banana','cherry','apple']\n",
        "mylist.reverse()\n",
        "mylist"
      ],
      "execution_count": 49,
      "outputs": [
        {
          "output_type": "execute_result",
          "data": {
            "text/plain": [
              "['apple', 'cherry', 'banana']"
            ]
          },
          "metadata": {
            "tags": []
          },
          "execution_count": 49
        }
      ]
    },
    {
      "cell_type": "code",
      "metadata": {
        "colab": {
          "base_uri": "https://localhost:8080/"
        },
        "id": "12_ksFfI55Ap",
        "outputId": "598cb5fa-056a-44a9-ae39-bbc16fe00957"
      },
      "source": [
        "nums = [2,3,4,5,-1,10,4]\n",
        "nums.sort() # Performs inplace sorting\n",
        "nums"
      ],
      "execution_count": 50,
      "outputs": [
        {
          "output_type": "execute_result",
          "data": {
            "text/plain": [
              "[-1, 2, 3, 4, 4, 5, 10]"
            ]
          },
          "metadata": {
            "tags": []
          },
          "execution_count": 50
        }
      ]
    },
    {
      "cell_type": "markdown",
      "metadata": {
        "id": "GDmhXoR86k_l"
      },
      "source": [
        "* Different ways  to create lists"
      ]
    },
    {
      "cell_type": "code",
      "metadata": {
        "colab": {
          "base_uri": "https://localhost:8080/"
        },
        "id": "tND23zrc6BaB",
        "outputId": "f203e7bb-0320-4467-8bc3-76b11cc7d67e"
      },
      "source": [
        "mylist = [0]*5\n",
        "mylist"
      ],
      "execution_count": 51,
      "outputs": [
        {
          "output_type": "execute_result",
          "data": {
            "text/plain": [
              "[0, 0, 0, 0, 0]"
            ]
          },
          "metadata": {
            "tags": []
          },
          "execution_count": 51
        }
      ]
    },
    {
      "cell_type": "markdown",
      "metadata": {
        "id": "jAYTA8xR6u3j"
      },
      "source": [
        "**List Concatenation**"
      ]
    },
    {
      "cell_type": "code",
      "metadata": {
        "colab": {
          "base_uri": "https://localhost:8080/"
        },
        "id": "FFsgo0uk6tPb",
        "outputId": "879256f7-6e9f-4f6b-d59a-1dabd02454d5"
      },
      "source": [
        "mylist2 = [1,2,3,4,5]\n",
        "\n",
        "new_list = mylist + mylist2\n",
        "new_list"
      ],
      "execution_count": 52,
      "outputs": [
        {
          "output_type": "execute_result",
          "data": {
            "text/plain": [
              "[0, 0, 0, 0, 0, 1, 2, 3, 4, 5]"
            ]
          },
          "metadata": {
            "tags": []
          },
          "execution_count": 52
        }
      ]
    },
    {
      "cell_type": "markdown",
      "metadata": {
        "id": "72THOE4Q63MU"
      },
      "source": [
        "**List Slicing**\n",
        "* To access subparts of a list\n",
        "\n",
        "\n"
      ]
    },
    {
      "cell_type": "code",
      "metadata": {
        "colab": {
          "base_uri": "https://localhost:8080/"
        },
        "id": "P8WWVXIJ62nD",
        "outputId": "39b4da31-7cec-4a0e-80e3-2514a6f480c2"
      },
      "source": [
        "mylist = [1,2,3,4,5,6,7,8,9]\n",
        "\n",
        "a = mylist[1:5]\n",
        "a"
      ],
      "execution_count": 53,
      "outputs": [
        {
          "output_type": "execute_result",
          "data": {
            "text/plain": [
              "[2, 3, 4, 5]"
            ]
          },
          "metadata": {
            "tags": []
          },
          "execution_count": 53
        }
      ]
    },
    {
      "cell_type": "code",
      "metadata": {
        "colab": {
          "base_uri": "https://localhost:8080/"
        },
        "id": "A5nYONkR7Dpu",
        "outputId": "3ae6a637-d6d5-4439-be25-437ebfe1fc1d"
      },
      "source": [
        "# If we dont specify a start index then it starts from the beginning\n",
        "# If we don't specify stop index then it goes to the last element\n",
        "\n",
        "start = mylist[:5]\n",
        "stop = mylist[1:]\n",
        "\n",
        "start,stop"
      ],
      "execution_count": 54,
      "outputs": [
        {
          "output_type": "execute_result",
          "data": {
            "text/plain": [
              "([1, 2, 3, 4, 5], [2, 3, 4, 5, 6, 7, 8, 9])"
            ]
          },
          "metadata": {
            "tags": []
          },
          "execution_count": 54
        }
      ]
    },
    {
      "cell_type": "markdown",
      "metadata": {
        "id": "EU-SGNHO7mTi"
      },
      "source": [
        "* we also have a step index. by default it's value is 1"
      ]
    },
    {
      "cell_type": "code",
      "metadata": {
        "colab": {
          "base_uri": "https://localhost:8080/"
        },
        "id": "aw9p7J7D7ifV",
        "outputId": "2c47131e-7c0f-4120-a491-d2e6f2e66203"
      },
      "source": [
        "a = mylist[::2] # Takes every second item\n",
        "print(a)\n",
        "\n",
        "# We can reverse the list using [::-1]\n",
        "a=a[::-1]\n",
        "a"
      ],
      "execution_count": 55,
      "outputs": [
        {
          "output_type": "stream",
          "text": [
            "[1, 3, 5, 7, 9]\n"
          ],
          "name": "stdout"
        },
        {
          "output_type": "execute_result",
          "data": {
            "text/plain": [
              "[9, 7, 5, 3, 1]"
            ]
          },
          "metadata": {
            "tags": []
          },
          "execution_count": 55
        }
      ]
    },
    {
      "cell_type": "markdown",
      "metadata": {
        "id": "FuUTq1qP74UP"
      },
      "source": [
        "**Copying a List**\n"
      ]
    },
    {
      "cell_type": "code",
      "metadata": {
        "colab": {
          "base_uri": "https://localhost:8080/"
        },
        "id": "Gd0Yhrjc72GC",
        "outputId": "7a786a76-5ca9-46e2-a516-11f6805fb29a"
      },
      "source": [
        "list_org = ['banana','cherry','apple']\n",
        "\n",
        "# simply by assining\n",
        "list_cpy = list_org\n",
        "\n",
        "# Now, if we modify the copied one then it also modifies the original one.\n",
        "list_cpy.append(\"Lemon\")\n",
        "\n",
        "print(list_org)\n",
        "print(list_cpy)"
      ],
      "execution_count": 56,
      "outputs": [
        {
          "output_type": "stream",
          "text": [
            "['banana', 'cherry', 'apple', 'Lemon']\n",
            "['banana', 'cherry', 'apple', 'Lemon']\n"
          ],
          "name": "stdout"
        }
      ]
    },
    {
      "cell_type": "markdown",
      "metadata": {
        "id": "VPgvqoh18UXw"
      },
      "source": [
        "* to avoid this. Use copy() method.\n",
        "* And also using the list() function\n",
        "* and also using slicing mylist[:]"
      ]
    },
    {
      "cell_type": "code",
      "metadata": {
        "colab": {
          "base_uri": "https://localhost:8080/"
        },
        "id": "KWoF2xlz8afg",
        "outputId": "66bf5652-6681-4c63-bbe6-29bc6fe1c3fa"
      },
      "source": [
        "# Using the copy() method\n",
        "list_org = ['banana','cherry','apple']\n",
        "\n",
        "list_cpy = list_org.copy()\n",
        "\n",
        "list_cpy.append(\"Lemon\")\n",
        "\n",
        "print(list_org)\n",
        "print(list_cpy)\n",
        "\n",
        "# using list()\n",
        "list_cpy1 = list(list_org)\n",
        "list_cpy1.append(\"Lemon\")\n",
        "\n",
        "print(list_org)\n",
        "print(list_cpy1)\n",
        "\n",
        "\n",
        "# Using Slicing\n",
        "list_cpy2 = list_org[:]\n",
        "list_cpy2.append(\"Lemon\")\n",
        "\n",
        "print(list_org)\n",
        "print(list_cpy2)\n"
      ],
      "execution_count": 59,
      "outputs": [
        {
          "output_type": "stream",
          "text": [
            "['banana', 'cherry', 'apple']\n",
            "['banana', 'cherry', 'apple', 'Lemon']\n",
            "['banana', 'cherry', 'apple']\n",
            "['banana', 'cherry', 'apple', 'Lemon']\n",
            "['banana', 'cherry', 'apple']\n",
            "['banana', 'cherry', 'apple', 'Lemon']\n"
          ],
          "name": "stdout"
        }
      ]
    },
    {
      "cell_type": "markdown",
      "metadata": {
        "id": "AYm9pyvS9PAI"
      },
      "source": [
        "**LIst Comprehension**\n",
        "* Elegant and fast way to create a new list using the existing list.\n",
        "\n"
      ]
    },
    {
      "cell_type": "code",
      "metadata": {
        "colab": {
          "base_uri": "https://localhost:8080/"
        },
        "id": "wBd58rLx9OWZ",
        "outputId": "0aad2e36-707b-428b-98d8-58778f9512dc"
      },
      "source": [
        "a = [1,2,3,4,5,6]\n",
        "\n",
        "b = [i*i for i in a]\n",
        "print(a)\n",
        "print(b)"
      ],
      "execution_count": 60,
      "outputs": [
        {
          "output_type": "stream",
          "text": [
            "[1, 2, 3, 4, 5, 6]\n",
            "[1, 4, 9, 16, 25, 36]\n"
          ],
          "name": "stdout"
        }
      ]
    },
    {
      "cell_type": "code",
      "metadata": {
        "id": "amu4DTJB9qM6"
      },
      "source": [
        ""
      ],
      "execution_count": null,
      "outputs": []
    }
  ]
}