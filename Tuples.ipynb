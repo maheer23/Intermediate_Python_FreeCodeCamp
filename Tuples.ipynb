{
  "nbformat": 4,
  "nbformat_minor": 0,
  "metadata": {
    "colab": {
      "name": "Tuples.ipynb",
      "provenance": [],
      "collapsed_sections": [],
      "authorship_tag": "ABX9TyNOMoXsM9dHgPDrz33MHJbd",
      "include_colab_link": true
    },
    "kernelspec": {
      "name": "python3",
      "display_name": "Python 3"
    },
    "language_info": {
      "name": "python"
    }
  },
  "cells": [
    {
      "cell_type": "markdown",
      "metadata": {
        "id": "view-in-github",
        "colab_type": "text"
      },
      "source": [
        "<a href=\"https://colab.research.google.com/github/maheer23/Intermediate_Python_FreeCodeCamp/blob/main/Tuples.ipynb\" target=\"_parent\"><img src=\"https://colab.research.google.com/assets/colab-badge.svg\" alt=\"Open In Colab\"/></a>"
      ]
    },
    {
      "cell_type": "markdown",
      "metadata": {
        "id": "EhVdBEC0_VJF"
      },
      "source": [
        "**Tuples:** Ordered, Immutable, Allows Duplicate elements\n"
      ]
    },
    {
      "cell_type": "code",
      "metadata": {
        "colab": {
          "base_uri": "https://localhost:8080/"
        },
        "id": "GHThQNHZ_Q_F",
        "outputId": "6c85beba-b258-4f64-a58f-ae907c916e71"
      },
      "source": [
        "mytuple = (\"max\",23,\"Boston\")\n",
        "print(mytuple)"
      ],
      "execution_count": 1,
      "outputs": [
        {
          "output_type": "stream",
          "text": [
            "('max', 23, 'Boston')\n"
          ],
          "name": "stdout"
        }
      ]
    },
    {
      "cell_type": "markdown",
      "metadata": {
        "id": "n-jY_51t_tL2"
      },
      "source": [
        "* If you have only element in the parenthesis, then it considers as a String.\n",
        "* TO avoid this, put a comma after the element"
      ]
    },
    {
      "cell_type": "code",
      "metadata": {
        "colab": {
          "base_uri": "https://localhost:8080/"
        },
        "id": "P79BYH3g_qLo",
        "outputId": "13850e9d-bd3b-4b84-b577-be22c1ab9430"
      },
      "source": [
        "mytuple = (\"MAx\")\n",
        "print(type(mytuple))\n",
        "\n",
        "# Now, adding a comma at the end\n",
        "mytuple = (\"MAX\",)\n",
        "print(type(mytuple))\n"
      ],
      "execution_count": 2,
      "outputs": [
        {
          "output_type": "stream",
          "text": [
            "<class 'str'>\n",
            "<class 'tuple'>\n"
          ],
          "name": "stdout"
        }
      ]
    },
    {
      "cell_type": "markdown",
      "metadata": {
        "id": "JVTdwn6wASQb"
      },
      "source": [
        "* BUilt in tuple() function to create a tuple from a iterable (list)"
      ]
    },
    {
      "cell_type": "code",
      "metadata": {
        "colab": {
          "base_uri": "https://localhost:8080/"
        },
        "id": "BRQsDMO8APlw",
        "outputId": "008edb32-48f9-48ef-a90d-9524a3eaf5b1"
      },
      "source": [
        "mytuple = tuple([\"max\",23,\"Boston\"])\n",
        "\n",
        "item = mytuple[0]\n",
        "print(item) # prints the first element"
      ],
      "execution_count": 3,
      "outputs": [
        {
          "output_type": "stream",
          "text": [
            "max\n"
          ],
          "name": "stdout"
        }
      ]
    },
    {
      "cell_type": "markdown",
      "metadata": {
        "id": "a27IPe30AkTQ"
      },
      "source": [
        "* We can specify a negative index [-1] to the last item "
      ]
    },
    {
      "cell_type": "code",
      "metadata": {
        "colab": {
          "base_uri": "https://localhost:8080/",
          "height": 35
        },
        "id": "y8JBkuWeAggG",
        "outputId": "ae2c9a8f-d08e-439e-b809-f94cc0ac3009"
      },
      "source": [
        "last = mytuple[-1]\n",
        "last"
      ],
      "execution_count": 5,
      "outputs": [
        {
          "output_type": "execute_result",
          "data": {
            "application/vnd.google.colaboratory.intrinsic+json": {
              "type": "string"
            },
            "text/plain": [
              "'Boston'"
            ]
          },
          "metadata": {
            "tags": []
          },
          "execution_count": 5
        }
      ]
    },
    {
      "cell_type": "markdown",
      "metadata": {
        "id": "awgCGv0NAz43"
      },
      "source": [
        "* We can't change the elements in a tuple. Coz it's Immutable"
      ]
    },
    {
      "cell_type": "markdown",
      "metadata": {
        "id": "2L7istbRA7MH"
      },
      "source": [
        "**Iterating over a tuple**"
      ]
    },
    {
      "cell_type": "code",
      "metadata": {
        "colab": {
          "base_uri": "https://localhost:8080/"
        },
        "id": "7880ax0eAxqn",
        "outputId": "f9689dfc-5213-4c2a-f932-ad06972a36e7"
      },
      "source": [
        "for i in mytuple:\n",
        "  print(i)"
      ],
      "execution_count": 6,
      "outputs": [
        {
          "output_type": "stream",
          "text": [
            "max\n",
            "23\n",
            "Boston\n"
          ],
          "name": "stdout"
        }
      ]
    },
    {
      "cell_type": "markdown",
      "metadata": {
        "id": "A3nVjjwpBA_V"
      },
      "source": [
        "* To check for an element in a tuple"
      ]
    },
    {
      "cell_type": "code",
      "metadata": {
        "colab": {
          "base_uri": "https://localhost:8080/"
        },
        "id": "rQvwD-YwBAlB",
        "outputId": "0cba2bb3-1f87-4dde-f71e-f6334ee75765"
      },
      "source": [
        "if \"max\" in mytuple:\n",
        "  print(\"YES\")\n",
        "else:\n",
        "  print(\"NO\")"
      ],
      "execution_count": 7,
      "outputs": [
        {
          "output_type": "stream",
          "text": [
            "YES\n"
          ],
          "name": "stdout"
        }
      ]
    },
    {
      "cell_type": "markdown",
      "metadata": {
        "id": "7Dz9BY7iBLAC"
      },
      "source": [
        "**Methods**\n",
        "\n",
        "* len()\n",
        "* count(item)\n",
        "* index(item) --> gives the first index of the item\n",
        "* list() --> converts tuple to list\n",
        "* tuple() --> converts list to tuple"
      ]
    },
    {
      "cell_type": "code",
      "metadata": {
        "colab": {
          "base_uri": "https://localhost:8080/"
        },
        "id": "87z6YoK4BKB4",
        "outputId": "760b3c2d-9c26-44e9-e9b7-8868fe58fb8e"
      },
      "source": [
        "mytuple = ['a','b','c','p','p','l','l','e']\n",
        "\n",
        "len(mytuple)"
      ],
      "execution_count": 9,
      "outputs": [
        {
          "output_type": "execute_result",
          "data": {
            "text/plain": [
              "8"
            ]
          },
          "metadata": {
            "tags": []
          },
          "execution_count": 9
        }
      ]
    },
    {
      "cell_type": "code",
      "metadata": {
        "colab": {
          "base_uri": "https://localhost:8080/"
        },
        "id": "yT_3T41jBQ5w",
        "outputId": "54eb448e-77c4-42c0-ff39-340674bf3fd1"
      },
      "source": [
        "print(mytuple.count('p'))"
      ],
      "execution_count": 11,
      "outputs": [
        {
          "output_type": "stream",
          "text": [
            "2\n"
          ],
          "name": "stdout"
        }
      ]
    },
    {
      "cell_type": "code",
      "metadata": {
        "colab": {
          "base_uri": "https://localhost:8080/"
        },
        "id": "ujqRVY6QBhsM",
        "outputId": "578975b2-eba9-4beb-ffe7-565717f05af9"
      },
      "source": [
        "print(mytuple.index('p'))"
      ],
      "execution_count": 12,
      "outputs": [
        {
          "output_type": "stream",
          "text": [
            "3\n"
          ],
          "name": "stdout"
        }
      ]
    },
    {
      "cell_type": "code",
      "metadata": {
        "colab": {
          "base_uri": "https://localhost:8080/"
        },
        "id": "RMykw39RByDH",
        "outputId": "6e68bd53-f5a7-40c3-ae0d-a15afc6e6a73"
      },
      "source": [
        "mylist = list(mytuple)\n",
        "print(mylist)\n",
        "\n",
        "mytuple = tuple(mylist)\n",
        "print(mytuple)"
      ],
      "execution_count": 13,
      "outputs": [
        {
          "output_type": "stream",
          "text": [
            "['a', 'b', 'c', 'p', 'p', 'l', 'l', 'e']\n",
            "('a', 'b', 'c', 'p', 'p', 'l', 'l', 'e')\n"
          ],
          "name": "stdout"
        }
      ]
    },
    {
      "cell_type": "markdown",
      "metadata": {
        "id": "GpqWaoN0CKTU"
      },
      "source": [
        "**Slicing**"
      ]
    },
    {
      "cell_type": "code",
      "metadata": {
        "colab": {
          "base_uri": "https://localhost:8080/"
        },
        "id": "6UONaR7cCIze",
        "outputId": "5cd0e553-c14b-43da-ee42-42d821e7f3ff"
      },
      "source": [
        "a = [1,2,3,4,5,6,7,8,9]\n",
        "\n",
        "b = a[2:5]\n",
        "print(b)"
      ],
      "execution_count": 14,
      "outputs": [
        {
          "output_type": "stream",
          "text": [
            "[3, 4, 5]\n"
          ],
          "name": "stdout"
        }
      ]
    },
    {
      "cell_type": "code",
      "metadata": {
        "colab": {
          "base_uri": "https://localhost:8080/"
        },
        "id": "T9VB850_CSNt",
        "outputId": "e4e61bf2-b351-41fe-dda7-7cd3c84db987"
      },
      "source": [
        "# If we dont specify a start index then it starts from the beginnning\n",
        "# if we dont specify a stop index then it goes to the last element\n",
        "\n",
        "start = a[:4]\n",
        "print(start)\n",
        "\n",
        "last = a[2:]\n",
        "print(last)"
      ],
      "execution_count": 16,
      "outputs": [
        {
          "output_type": "stream",
          "text": [
            "[1, 2, 3, 4]\n",
            "[3, 4, 5, 6, 7, 8, 9]\n"
          ],
          "name": "stdout"
        }
      ]
    },
    {
      "cell_type": "markdown",
      "metadata": {
        "id": "C88ZfUt7CqaB"
      },
      "source": [
        "* WE can add a step in the slincing"
      ]
    },
    {
      "cell_type": "code",
      "metadata": {
        "colab": {
          "base_uri": "https://localhost:8080/"
        },
        "id": "BZtsbyabCtyA",
        "outputId": "baf360a1-e07e-4d01-d563-398c15af74a6"
      },
      "source": [
        "b = a[1:7:2]\n",
        "\n",
        "print(b)"
      ],
      "execution_count": 17,
      "outputs": [
        {
          "output_type": "stream",
          "text": [
            "[2, 4, 6]\n"
          ],
          "name": "stdout"
        }
      ]
    },
    {
      "cell_type": "markdown",
      "metadata": {
        "id": "qPLaqp0RCz10"
      },
      "source": [
        "* Reversing using Slicing"
      ]
    },
    {
      "cell_type": "code",
      "metadata": {
        "colab": {
          "base_uri": "https://localhost:8080/"
        },
        "id": "WZ14RG0rCgvQ",
        "outputId": "535579ea-5b6e-427e-d2bc-a8171b4994a2"
      },
      "source": [
        "rev = a[::-1]\n",
        "\n",
        "print(rev)"
      ],
      "execution_count": 18,
      "outputs": [
        {
          "output_type": "stream",
          "text": [
            "[9, 8, 7, 6, 5, 4, 3, 2, 1]\n"
          ],
          "name": "stdout"
        }
      ]
    },
    {
      "cell_type": "markdown",
      "metadata": {
        "id": "TUPDOxPCC6Q7"
      },
      "source": [
        "**Unpacking**\n",
        "\n",
        "* The number of elements on the left hand side must match the number of elements inside the tuple"
      ]
    },
    {
      "cell_type": "code",
      "metadata": {
        "colab": {
          "base_uri": "https://localhost:8080/"
        },
        "id": "I8vAog4mC3_q",
        "outputId": "3866ceba-1da9-4c8f-c682-b49b5d7e7d23"
      },
      "source": [
        "mytuple = (\"max\",28,'boston')\n",
        "\n",
        "name, age, city = mytuple\n",
        "\n",
        "print(name,age,city)"
      ],
      "execution_count": 20,
      "outputs": [
        {
          "output_type": "stream",
          "text": [
            "max 28 boston\n"
          ],
          "name": "stdout"
        }
      ]
    },
    {
      "cell_type": "markdown",
      "metadata": {
        "id": "j8Y06zgVDRqu"
      },
      "source": [
        "* we can unpack multiple elements using \"*\"\n"
      ]
    },
    {
      "cell_type": "code",
      "metadata": {
        "colab": {
          "base_uri": "https://localhost:8080/"
        },
        "id": "OQXJZd7VDCP7",
        "outputId": "1bdd0b3a-4856-4ece-dc93-cdb6554e72d2"
      },
      "source": [
        "mytuple = (0,1,2,3,4)\n",
        "\n",
        "i1,*i2,i3 = mytuple\n",
        "print(i1)\n",
        "print(i2)\n",
        "print(i3)"
      ],
      "execution_count": 22,
      "outputs": [
        {
          "output_type": "stream",
          "text": [
            "0\n",
            "[1, 2, 3]\n",
            "4\n"
          ],
          "name": "stdout"
        }
      ]
    },
    {
      "cell_type": "markdown",
      "metadata": {
        "id": "qXhM9WIdDmM0"
      },
      "source": [
        "**Comparing Tuples and list**\n",
        "\n",
        "* When working with large data tuples will be more efficient"
      ]
    },
    {
      "cell_type": "code",
      "metadata": {
        "colab": {
          "base_uri": "https://localhost:8080/"
        },
        "id": "negSoTtkDfkA",
        "outputId": "620c0291-caeb-4370-93ec-90bc24e88f87"
      },
      "source": [
        "import sys\n",
        "\n",
        "mylist = [0,1,2,\"hello\",True]\n",
        "mytuple = (0,1,2,\"hello\",True)\n",
        "\n",
        "print(sys.getsizeof(mylist),\"bytes\")\n",
        "print(sys.getsizeof(mytuple),\"bytes\")"
      ],
      "execution_count": 23,
      "outputs": [
        {
          "output_type": "stream",
          "text": [
            "112 bytes\n",
            "96 bytes\n"
          ],
          "name": "stdout"
        }
      ]
    },
    {
      "cell_type": "markdown",
      "metadata": {
        "id": "LV3TN_qDEQic"
      },
      "source": [
        "* comparing their times"
      ]
    },
    {
      "cell_type": "code",
      "metadata": {
        "colab": {
          "base_uri": "https://localhost:8080/"
        },
        "id": "mD9EMSOcEJSG",
        "outputId": "03c5c6e4-1ed8-4445-f71d-94537171edbc"
      },
      "source": [
        "import timeit\n",
        "\n",
        "print(timeit.timeit(stmt=\"[0,1,2,3,4,5]\",number = 1000000),\"list\")\n",
        "print(timeit.timeit(stmt=\"(0,1,2,3,4,5)\",number = 1000000),'Tuple')"
      ],
      "execution_count": 27,
      "outputs": [
        {
          "output_type": "stream",
          "text": [
            "0.08954147199983709 list\n",
            "0.013161230999912732 Tuple\n"
          ],
          "name": "stdout"
        }
      ]
    },
    {
      "cell_type": "code",
      "metadata": {
        "id": "-2pfXe4HEmEF"
      },
      "source": [
        ""
      ],
      "execution_count": null,
      "outputs": []
    }
  ]
}